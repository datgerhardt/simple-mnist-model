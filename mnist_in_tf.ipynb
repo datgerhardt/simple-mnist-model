{
  "nbformat": 4,
  "nbformat_minor": 0,
  "metadata": {
    "colab": {
      "name": "mnist_in_tf.ipynb",
      "provenance": [],
      "collapsed_sections": [],
      "authorship_tag": "ABX9TyMnIAwXnDl+fOoL510c9lMf",
      "include_colab_link": true
    },
    "kernelspec": {
      "name": "python3",
      "display_name": "Python 3"
    },
    "language_info": {
      "name": "python"
    },
    "accelerator": "GPU"
  },
  "cells": [
    {
      "cell_type": "markdown",
      "metadata": {
        "id": "view-in-github",
        "colab_type": "text"
      },
      "source": [
        "<a href=\"https://colab.research.google.com/github/datgerhardt/simple-mnist-model/blob/main/mnist_in_tf.ipynb\" target=\"_parent\"><img src=\"https://colab.research.google.com/assets/colab-badge.svg\" alt=\"Open In Colab\"/></a>"
      ]
    },
    {
      "cell_type": "code",
      "metadata": {
        "colab": {
          "base_uri": "https://localhost:8080/"
        },
        "id": "IzkdXN5vCNYy",
        "outputId": "a8f8b2fb-c6d9-43f2-f669-a7bfeac12a0e"
      },
      "source": [
        "%pylab inline\n",
        "import tensorflow as tf\n",
        "from keras.utils import np_utils\n",
        "from tensorflow.keras.layers import Dense\n",
        "from tensorflow.keras.layers import Conv2D\n",
        "from tensorflow.keras.layers import Dropout\n",
        "from tensorflow.keras.layers import Flatten\n",
        "from tensorflow.keras.models import Sequential\n",
        "from tensorflow.keras.layers import MaxPooling2D"
      ],
      "execution_count": 1,
      "outputs": [
        {
          "output_type": "stream",
          "text": [
            "Populating the interactive namespace from numpy and matplotlib\n"
          ],
          "name": "stdout"
        }
      ]
    },
    {
      "cell_type": "code",
      "metadata": {
        "colab": {
          "base_uri": "https://localhost:8080/"
        },
        "id": "E20Hsys8UqYO",
        "outputId": "30962938-8a02-444f-ae49-8d565c2799c2"
      },
      "source": [
        "!nvidia-smi"
      ],
      "execution_count": 5,
      "outputs": [
        {
          "output_type": "stream",
          "text": [
            "Fri Jul 23 05:25:03 2021       \n",
            "+-----------------------------------------------------------------------------+\n",
            "| NVIDIA-SMI 470.42.01    Driver Version: 460.32.03    CUDA Version: 11.2     |\n",
            "|-------------------------------+----------------------+----------------------+\n",
            "| GPU  Name        Persistence-M| Bus-Id        Disp.A | Volatile Uncorr. ECC |\n",
            "| Fan  Temp  Perf  Pwr:Usage/Cap|         Memory-Usage | GPU-Util  Compute M. |\n",
            "|                               |                      |               MIG M. |\n",
            "|===============================+======================+======================|\n",
            "|   0  Tesla T4            Off  | 00000000:00:04.0 Off |                    0 |\n",
            "| N/A   65C    P8    11W /  70W |      0MiB / 15109MiB |      0%      Default |\n",
            "|                               |                      |                  N/A |\n",
            "+-------------------------------+----------------------+----------------------+\n",
            "                                                                               \n",
            "+-----------------------------------------------------------------------------+\n",
            "| Processes:                                                                  |\n",
            "|  GPU   GI   CI        PID   Type   Process name                  GPU Memory |\n",
            "|        ID   ID                                                   Usage      |\n",
            "|=============================================================================|\n",
            "|  No running processes found                                                 |\n",
            "+-----------------------------------------------------------------------------+\n"
          ],
          "name": "stdout"
        }
      ]
    },
    {
      "cell_type": "code",
      "metadata": {
        "colab": {
          "base_uri": "https://localhost:8080/"
        },
        "id": "XJth5pVSNFXZ",
        "outputId": "1e285dbd-bf03-46fd-acef-7a61df40060c"
      },
      "source": [
        "# Data preprocessing\n",
        "from tensorflow.keras.datasets import mnist \n",
        "(x_train, y_train), (x_test, y_test) = mnist.load_data()\n",
        "x_train, x_test = [x/255 for x in [x_train, x_test]]\n",
        "y_train, y_test = [tf.keras.utils.to_categorical(x) for x in [y_train, y_test]]\n",
        "num_classes = 10\n",
        "print(x_train.shape, x_test.shape)\n",
        "print(y_train.shape, y_test.shape)"
      ],
      "execution_count": 8,
      "outputs": [
        {
          "output_type": "stream",
          "text": [
            "Downloading data from https://storage.googleapis.com/tensorflow/tf-keras-datasets/mnist.npz\n",
            "11493376/11490434 [==============================] - 0s 0us/step\n",
            "(60000, 28, 28) (10000, 28, 28)\n",
            "(60000, 10) (10000, 10)\n"
          ],
          "name": "stdout"
        }
      ]
    },
    {
      "cell_type": "code",
      "metadata": {
        "colab": {
          "base_uri": "https://localhost:8080/",
          "height": 117
        },
        "id": "C5LVtUIDHnhp",
        "outputId": "4dc8e8f6-190f-42e6-cdd0-d94f216958ce"
      },
      "source": [
        "plt.subplot(161)\n",
        "plt.imshow(x_train[3], cmap=plt.get_cmap('gray'))\n",
        "plt.subplot(162)\n",
        "plt.imshow(x_train[5], cmap=plt.get_cmap('gray'))\n",
        "plt.subplot(163)\n",
        "plt.imshow(x_train[7], cmap=plt.get_cmap('gray'))\n",
        "plt.subplot(164)\n",
        "plt.imshow(x_train[2], cmap=plt.get_cmap('gray'))\n",
        "plt.subplot(165)\n",
        "plt.imshow(x_train[0], cmap=plt.get_cmap('gray'))\n",
        "plt.subplot(166)\n",
        "plt.imshow(x_train[13], cmap=plt.get_cmap('gray'))\n",
        "\n"
      ],
      "execution_count": 3,
      "outputs": [
        {
          "output_type": "execute_result",
          "data": {
            "text/plain": [
              "<matplotlib.image.AxesImage at 0x7f880b5cf850>"
            ]
          },
          "metadata": {
            "tags": []
          },
          "execution_count": 3
        },
        {
          "output_type": "display_data",
          "data": {
            "image/png": "[encoded data removed]",
            "text/plain": [
              "<Figure size 432x288 with 6 Axes>"
            ]
          },
          "metadata": {
            "tags": [],
            "needs_background": "light"
          }
        }
      ]
    },
    {
      "cell_type": "code",
      "metadata": {
        "colab": {
          "base_uri": "https://localhost:8080/"
        },
        "id": "pXGVbYjGeKne",
        "outputId": "765aa306-44fa-4869-a779-d9876079458b"
      },
      "source": [
        "x_tn = x_train.reshape((60000, 28, 28, 1)).astype('float32')\n",
        "x_tt = x_test.reshape((10000, 28, 28, 1)).astype('float32')\n",
        "print(x_tn.shape, x_tt.shape)"
      ],
      "execution_count": 12,
      "outputs": [
        {
          "output_type": "stream",
          "text": [
            "(60000, 28, 28, 1) (10000, 28, 28, 1)\n"
          ],
          "name": "stdout"
        }
      ]
    },
    {
      "cell_type": "code",
      "metadata": {
        "colab": {
          "base_uri": "https://localhost:8080/"
        },
        "id": "KDzZjO4RS2FA",
        "outputId": "82dfa6e5-3e20-4df5-87a8-c45c689e4858"
      },
      "source": [
        "model = Sequential()\n",
        "model.add(Conv2D(30, (5,5), input_shape=(28,28,1), activation='relu'))\n",
        "model.add(MaxPooling2D())\n",
        "\n",
        "model.add(Conv2D(15, (3,4), activation='relu'))\n",
        "model.add(MaxPooling2D())\n",
        "model.add(Dropout(0.2))\n",
        "\n",
        "model.add(Flatten())\n",
        "model.add(Dense(128, activation=\"relu\"))\n",
        "model.add(Dense(50, activation=\"relu\"))\n",
        "model.add(Dense(num_classes, activation=\"softmax\"))\n",
        "\n",
        "model.compile(loss=\"categorical_crossentropy\", optimizer=\"adam\", metrics=[\"accuracy\"])\n",
        "model.summary()\n",
        "model.fit(x_tn, y_train, validation_data=(x_tt, y_test), epochs=30, batch_size=200, verbose=2)\n"
      ],
      "execution_count": 13,
      "outputs": [
        {
          "output_type": "stream",
          "text": [
            "Model: \"sequential_4\"\n",
            "_________________________________________________________________\n",
            "Layer (type)                 Output Shape              Param #   \n",
            "=================================================================\n",
            "conv2d_6 (Conv2D)            (None, 24, 24, 30)        780       \n",
            "_________________________________________________________________\n",
            "max_pooling2d_6 (MaxPooling2 (None, 12, 12, 30)        0         \n",
            "_________________________________________________________________\n",
            "conv2d_7 (Conv2D)            (None, 10, 9, 15)         5415      \n",
            "_________________________________________________________________\n",
            "max_pooling2d_7 (MaxPooling2 (None, 5, 4, 15)          0         \n",
            "_________________________________________________________________\n",
            "dropout_3 (Dropout)          (None, 5, 4, 15)          0         \n",
            "_________________________________________________________________\n",
            "flatten_3 (Flatten)          (None, 300)               0         \n",
            "_________________________________________________________________\n",
            "dense_8 (Dense)              (None, 128)               38528     \n",
            "_________________________________________________________________\n",
            "dense_9 (Dense)              (None, 50)                6450      \n",
            "_________________________________________________________________\n",
            "dense_10 (Dense)             (None, 10)                510       \n",
            "=================================================================\n",
            "Total params: 51,683\n",
            "Trainable params: 51,683\n",
            "Non-trainable params: 0\n",
            "_________________________________________________________________\n",
            "Epoch 1/30\n",
            "300/300 - 32s - loss: 0.3943 - accuracy: 0.8772 - val_loss: 0.0811 - val_accuracy: 0.9761\n",
            "Epoch 2/30\n",
            "300/300 - 1s - loss: 0.0991 - accuracy: 0.9693 - val_loss: 0.0484 - val_accuracy: 0.9849\n",
            "Epoch 3/30\n",
            "300/300 - 1s - loss: 0.0706 - accuracy: 0.9787 - val_loss: 0.0386 - val_accuracy: 0.9868\n",
            "Epoch 4/30\n",
            "300/300 - 1s - loss: 0.0589 - accuracy: 0.9818 - val_loss: 0.0295 - val_accuracy: 0.9903\n",
            "Epoch 5/30\n",
            "300/300 - 1s - loss: 0.0507 - accuracy: 0.9839 - val_loss: 0.0280 - val_accuracy: 0.9906\n",
            "Epoch 6/30\n",
            "300/300 - 1s - loss: 0.0441 - accuracy: 0.9864 - val_loss: 0.0285 - val_accuracy: 0.9898\n",
            "Epoch 7/30\n",
            "300/300 - 1s - loss: 0.0397 - accuracy: 0.9874 - val_loss: 0.0295 - val_accuracy: 0.9899\n",
            "Epoch 8/30\n",
            "300/300 - 1s - loss: 0.0363 - accuracy: 0.9883 - val_loss: 0.0265 - val_accuracy: 0.9912\n",
            "Epoch 9/30\n",
            "300/300 - 1s - loss: 0.0327 - accuracy: 0.9897 - val_loss: 0.0242 - val_accuracy: 0.9919\n",
            "Epoch 10/30\n",
            "300/300 - 1s - loss: 0.0301 - accuracy: 0.9910 - val_loss: 0.0204 - val_accuracy: 0.9935\n",
            "Epoch 11/30\n",
            "300/300 - 1s - loss: 0.0284 - accuracy: 0.9910 - val_loss: 0.0270 - val_accuracy: 0.9916\n",
            "Epoch 12/30\n",
            "300/300 - 1s - loss: 0.0266 - accuracy: 0.9915 - val_loss: 0.0280 - val_accuracy: 0.9904\n",
            "Epoch 13/30\n",
            "300/300 - 1s - loss: 0.0233 - accuracy: 0.9927 - val_loss: 0.0245 - val_accuracy: 0.9924\n",
            "Epoch 14/30\n",
            "300/300 - 1s - loss: 0.0248 - accuracy: 0.9919 - val_loss: 0.0238 - val_accuracy: 0.9924\n",
            "Epoch 15/30\n",
            "300/300 - 1s - loss: 0.0206 - accuracy: 0.9930 - val_loss: 0.0204 - val_accuracy: 0.9929\n",
            "Epoch 16/30\n",
            "300/300 - 1s - loss: 0.0217 - accuracy: 0.9929 - val_loss: 0.0193 - val_accuracy: 0.9935\n",
            "Epoch 17/30\n",
            "300/300 - 1s - loss: 0.0198 - accuracy: 0.9935 - val_loss: 0.0240 - val_accuracy: 0.9920\n",
            "Epoch 18/30\n",
            "300/300 - 1s - loss: 0.0190 - accuracy: 0.9938 - val_loss: 0.0223 - val_accuracy: 0.9922\n",
            "Epoch 19/30\n",
            "300/300 - 1s - loss: 0.0173 - accuracy: 0.9942 - val_loss: 0.0215 - val_accuracy: 0.9925\n",
            "Epoch 20/30\n",
            "300/300 - 1s - loss: 0.0175 - accuracy: 0.9941 - val_loss: 0.0233 - val_accuracy: 0.9928\n",
            "Epoch 21/30\n",
            "300/300 - 1s - loss: 0.0173 - accuracy: 0.9940 - val_loss: 0.0250 - val_accuracy: 0.9922\n",
            "Epoch 22/30\n",
            "300/300 - 1s - loss: 0.0155 - accuracy: 0.9946 - val_loss: 0.0253 - val_accuracy: 0.9918\n",
            "Epoch 23/30\n",
            "300/300 - 1s - loss: 0.0148 - accuracy: 0.9952 - val_loss: 0.0272 - val_accuracy: 0.9922\n",
            "Epoch 24/30\n",
            "300/300 - 1s - loss: 0.0136 - accuracy: 0.9954 - val_loss: 0.0217 - val_accuracy: 0.9930\n",
            "Epoch 25/30\n",
            "300/300 - 1s - loss: 0.0142 - accuracy: 0.9951 - val_loss: 0.0234 - val_accuracy: 0.9923\n",
            "Epoch 26/30\n",
            "300/300 - 1s - loss: 0.0141 - accuracy: 0.9954 - val_loss: 0.0244 - val_accuracy: 0.9925\n",
            "Epoch 27/30\n",
            "300/300 - 1s - loss: 0.0138 - accuracy: 0.9952 - val_loss: 0.0236 - val_accuracy: 0.9926\n",
            "Epoch 28/30\n",
            "300/300 - 1s - loss: 0.0121 - accuracy: 0.9956 - val_loss: 0.0238 - val_accuracy: 0.9924\n",
            "Epoch 29/30\n",
            "300/300 - 1s - loss: 0.0119 - accuracy: 0.9958 - val_loss: 0.0230 - val_accuracy: 0.9933\n",
            "Epoch 30/30\n",
            "300/300 - 1s - loss: 0.0125 - accuracy: 0.9958 - val_loss: 0.0229 - val_accuracy: 0.9926\n"
          ],
          "name": "stdout"
        },
        {
          "output_type": "execute_result",
          "data": {
            "text/plain": [
              "<tensorflow.python.keras.callbacks.History at 0x7fa81835c1d0>"
            ]
          },
          "metadata": {
            "tags": []
          },
          "execution_count": 13
        }
      ]
    },
    {
      "cell_type": "code",
      "metadata": {
        "id": "FwwLokiufwRq"
      },
      "source": [
        "model.save('model.h5')"
      ],
      "execution_count": 15,
      "outputs": []
    },
    {
      "cell_type": "code",
      "metadata": {
        "id": "6AoE3VG6ghJW"
      },
      "source": [
        "model.save_weights('weights.h5')"
      ],
      "execution_count": 19,
      "outputs": []
    },
    {
      "cell_type": "code",
      "metadata": {
        "colab": {
          "base_uri": "https://localhost:8080/"
        },
        "id": "Me7-tKdlf-Tb",
        "outputId": "56e82e4f-dc33-4d75-c149-678c6025f345"
      },
      "source": [
        "pip install tensorflowjs"
      ],
      "execution_count": 16,
      "outputs": [
        {
          "output_type": "stream",
          "text": [
            "Collecting tensorflowjs\n",
            "  Downloading tensorflowjs-3.8.0-py3-none-any.whl (64 kB)\n",
            "\u001b[?25l\r\u001b[K     |█████                           | 10 kB 23.1 MB/s eta 0:00:01\r\u001b[K     |██████████▏                     | 20 kB 27.4 MB/s eta 0:00:01\r\u001b[K     |███████████████▏                | 30 kB 17.7 MB/s eta 0:00:01\r\u001b[K     |████████████████████▎           | 40 kB 15.2 MB/s eta 0:00:01\r\u001b[K     |█████████████████████████▎      | 51 kB 8.7 MB/s eta 0:00:01\r\u001b[K     |██████████████████████████████▍ | 61 kB 9.0 MB/s eta 0:00:01\r\u001b[K     |████████████████████████████████| 64 kB 1.9 MB/s \n",
            "\u001b[?25hRequirement already satisfied: tensorflow-hub<0.13,>=0.7.0 in /usr/local/lib/python3.7/dist-packages (from tensorflowjs) (0.12.0)\n",
            "Requirement already satisfied: six<2,>=1.12.0 in /usr/local/lib/python3.7/dist-packages (from tensorflowjs) (1.15.0)\n",
            "Requirement already satisfied: tensorflow<3,>=2.1.0 in /usr/local/lib/python3.7/dist-packages (from tensorflowjs) (2.5.0)\n",
            "Requirement already satisfied: google-pasta~=0.2 in /usr/local/lib/python3.7/dist-packages (from tensorflow<3,>=2.1.0->tensorflowjs) (0.2.0)\n",
            "Requirement already satisfied: wheel~=0.35 in /usr/local/lib/python3.7/dist-packages (from tensorflow<3,>=2.1.0->tensorflowjs) (0.36.2)\n",
            "Requirement already satisfied: h5py~=3.1.0 in /usr/local/lib/python3.7/dist-packages (from tensorflow<3,>=2.1.0->tensorflowjs) (3.1.0)\n",
            "Requirement already satisfied: opt-einsum~=3.3.0 in /usr/local/lib/python3.7/dist-packages (from tensorflow<3,>=2.1.0->tensorflowjs) (3.3.0)\n",
            "Requirement already satisfied: keras-nightly~=2.5.0.dev in /usr/local/lib/python3.7/dist-packages (from tensorflow<3,>=2.1.0->tensorflowjs) (2.5.0.dev2021032900)\n",
            "Requirement already satisfied: tensorboard~=2.5 in /usr/local/lib/python3.7/dist-packages (from tensorflow<3,>=2.1.0->tensorflowjs) (2.5.0)\n",
            "Requirement already satisfied: termcolor~=1.1.0 in /usr/local/lib/python3.7/dist-packages (from tensorflow<3,>=2.1.0->tensorflowjs) (1.1.0)\n",
            "Requirement already satisfied: astunparse~=1.6.3 in /usr/local/lib/python3.7/dist-packages (from tensorflow<3,>=2.1.0->tensorflowjs) (1.6.3)\n",
            "Requirement already satisfied: gast==0.4.0 in /usr/local/lib/python3.7/dist-packages (from tensorflow<3,>=2.1.0->tensorflowjs) (0.4.0)\n",
            "Requirement already satisfied: keras-preprocessing~=1.1.2 in /usr/local/lib/python3.7/dist-packages (from tensorflow<3,>=2.1.0->tensorflowjs) (1.1.2)\n",
            "Requirement already satisfied: flatbuffers~=1.12.0 in /usr/local/lib/python3.7/dist-packages (from tensorflow<3,>=2.1.0->tensorflowjs) (1.12)\n",
            "Requirement already satisfied: wrapt~=1.12.1 in /usr/local/lib/python3.7/dist-packages (from tensorflow<3,>=2.1.0->tensorflowjs) (1.12.1)\n",
            "Requirement already satisfied: typing-extensions~=3.7.4 in /usr/local/lib/python3.7/dist-packages (from tensorflow<3,>=2.1.0->tensorflowjs) (3.7.4.3)\n",
            "Requirement already satisfied: tensorflow-estimator<2.6.0,>=2.5.0rc0 in /usr/local/lib/python3.7/dist-packages (from tensorflow<3,>=2.1.0->tensorflowjs) (2.5.0)\n",
            "Requirement already satisfied: numpy~=1.19.2 in /usr/local/lib/python3.7/dist-packages (from tensorflow<3,>=2.1.0->tensorflowjs) (1.19.5)\n",
            "Requirement already satisfied: absl-py~=0.10 in /usr/local/lib/python3.7/dist-packages (from tensorflow<3,>=2.1.0->tensorflowjs) (0.12.0)\n",
            "Requirement already satisfied: protobuf>=3.9.2 in /usr/local/lib/python3.7/dist-packages (from tensorflow<3,>=2.1.0->tensorflowjs) (3.17.3)\n",
            "Requirement already satisfied: grpcio~=1.34.0 in /usr/local/lib/python3.7/dist-packages (from tensorflow<3,>=2.1.0->tensorflowjs) (1.34.1)\n",
            "Requirement already satisfied: cached-property in /usr/local/lib/python3.7/dist-packages (from h5py~=3.1.0->tensorflow<3,>=2.1.0->tensorflowjs) (1.5.2)\n",
            "Requirement already satisfied: tensorboard-data-server<0.7.0,>=0.6.0 in /usr/local/lib/python3.7/dist-packages (from tensorboard~=2.5->tensorflow<3,>=2.1.0->tensorflowjs) (0.6.1)\n",
            "Requirement already satisfied: werkzeug>=0.11.15 in /usr/local/lib/python3.7/dist-packages (from tensorboard~=2.5->tensorflow<3,>=2.1.0->tensorflowjs) (1.0.1)\n",
            "Requirement already satisfied: markdown>=2.6.8 in /usr/local/lib/python3.7/dist-packages (from tensorboard~=2.5->tensorflow<3,>=2.1.0->tensorflowjs) (3.3.4)\n",
            "Requirement already satisfied: tensorboard-plugin-wit>=1.6.0 in /usr/local/lib/python3.7/dist-packages (from tensorboard~=2.5->tensorflow<3,>=2.1.0->tensorflowjs) (1.8.0)\n",
            "Requirement already satisfied: requests<3,>=2.21.0 in /usr/local/lib/python3.7/dist-packages (from tensorboard~=2.5->tensorflow<3,>=2.1.0->tensorflowjs) (2.23.0)\n",
            "Requirement already satisfied: setuptools>=41.0.0 in /usr/local/lib/python3.7/dist-packages (from tensorboard~=2.5->tensorflow<3,>=2.1.0->tensorflowjs) (57.2.0)\n",
            "Requirement already satisfied: google-auth<2,>=1.6.3 in /usr/local/lib/python3.7/dist-packages (from tensorboard~=2.5->tensorflow<3,>=2.1.0->tensorflowjs) (1.32.1)\n",
            "Requirement already satisfied: google-auth-oauthlib<0.5,>=0.4.1 in /usr/local/lib/python3.7/dist-packages (from tensorboard~=2.5->tensorflow<3,>=2.1.0->tensorflowjs) (0.4.4)\n",
            "Requirement already satisfied: cachetools<5.0,>=2.0.0 in /usr/local/lib/python3.7/dist-packages (from google-auth<2,>=1.6.3->tensorboard~=2.5->tensorflow<3,>=2.1.0->tensorflowjs) (4.2.2)\n",
            "Requirement already satisfied: pyasn1-modules>=0.2.1 in /usr/local/lib/python3.7/dist-packages (from google-auth<2,>=1.6.3->tensorboard~=2.5->tensorflow<3,>=2.1.0->tensorflowjs) (0.2.8)\n",
            "Requirement already satisfied: rsa<5,>=3.1.4 in /usr/local/lib/python3.7/dist-packages (from google-auth<2,>=1.6.3->tensorboard~=2.5->tensorflow<3,>=2.1.0->tensorflowjs) (4.7.2)\n",
            "Requirement already satisfied: requests-oauthlib>=0.7.0 in /usr/local/lib/python3.7/dist-packages (from google-auth-oauthlib<0.5,>=0.4.1->tensorboard~=2.5->tensorflow<3,>=2.1.0->tensorflowjs) (1.3.0)\n",
            "Requirement already satisfied: importlib-metadata in /usr/local/lib/python3.7/dist-packages (from markdown>=2.6.8->tensorboard~=2.5->tensorflow<3,>=2.1.0->tensorflowjs) (4.6.1)\n",
            "Requirement already satisfied: pyasn1<0.5.0,>=0.4.6 in /usr/local/lib/python3.7/dist-packages (from pyasn1-modules>=0.2.1->google-auth<2,>=1.6.3->tensorboard~=2.5->tensorflow<3,>=2.1.0->tensorflowjs) (0.4.8)\n",
            "Requirement already satisfied: certifi>=2017.4.17 in /usr/local/lib/python3.7/dist-packages (from requests<3,>=2.21.0->tensorboard~=2.5->tensorflow<3,>=2.1.0->tensorflowjs) (2021.5.30)\n",
            "Requirement already satisfied: urllib3!=1.25.0,!=1.25.1,<1.26,>=1.21.1 in /usr/local/lib/python3.7/dist-packages (from requests<3,>=2.21.0->tensorboard~=2.5->tensorflow<3,>=2.1.0->tensorflowjs) (1.24.3)\n",
            "Requirement already satisfied: idna<3,>=2.5 in /usr/local/lib/python3.7/dist-packages (from requests<3,>=2.21.0->tensorboard~=2.5->tensorflow<3,>=2.1.0->tensorflowjs) (2.10)\n",
            "Requirement already satisfied: chardet<4,>=3.0.2 in /usr/local/lib/python3.7/dist-packages (from requests<3,>=2.21.0->tensorboard~=2.5->tensorflow<3,>=2.1.0->tensorflowjs) (3.0.4)\n",
            "Requirement already satisfied: oauthlib>=3.0.0 in /usr/local/lib/python3.7/dist-packages (from requests-oauthlib>=0.7.0->google-auth-oauthlib<0.5,>=0.4.1->tensorboard~=2.5->tensorflow<3,>=2.1.0->tensorflowjs) (3.1.1)\n",
            "Requirement already satisfied: zipp>=0.5 in /usr/local/lib/python3.7/dist-packages (from importlib-metadata->markdown>=2.6.8->tensorboard~=2.5->tensorflow<3,>=2.1.0->tensorflowjs) (3.5.0)\n",
            "Installing collected packages: tensorflowjs\n",
            "Successfully installed tensorflowjs-3.8.0\n"
          ],
          "name": "stdout"
        }
      ]
    },
    {
      "cell_type": "code",
      "metadata": {
        "colab": {
          "base_uri": "https://localhost:8080/"
        },
        "id": "wxNJFRWSbkbn",
        "outputId": "78cd9935-e5c6-464d-bab4-830c5983c8e1"
      },
      "source": [
        "!pip list | grep tensorflowjs"
      ],
      "execution_count": 22,
      "outputs": [
        {
          "output_type": "stream",
          "text": [
            "tensorflowjs                  3.8.0\n"
          ],
          "name": "stdout"
        }
      ]
    },
    {
      "cell_type": "code",
      "metadata": {
        "colab": {
          "base_uri": "https://localhost:8080/"
        },
        "id": "y5CwN9ybfnW6",
        "outputId": "296c9fb3-35d3-4c1d-8192-9fd5d710e251"
      },
      "source": [
        "! tensorflowjs_converter --input_format keras 'model.h5' 'content/models'"
      ],
      "execution_count": 21,
      "outputs": [
        {
          "output_type": "stream",
          "text": [
            "2021-07-23 06:25:17.699148: I tensorflow/stream_executor/platform/default/dso_loader.cc:53] Successfully opened dynamic library libcudart.so.11.0\n"
          ],
          "name": "stdout"
        }
      ]
    },
    {
      "cell_type": "code",
      "metadata": {
        "id": "ks8JYYm2iKA4"
      },
      "source": [
        "# https://towardsdatascience.com/deploying-a-simple-machine-learning-model-into-a-webapp-using-tensorflow-js-3609c297fb04"
      ],
      "execution_count": 23,
      "outputs": []
    },
    {
      "cell_type": "code",
      "metadata": {
        "id": "sRFfk_llkFh2"
      },
      "source": [
        ""
      ],
      "execution_count": null,
      "outputs": []
    }
  ]
}